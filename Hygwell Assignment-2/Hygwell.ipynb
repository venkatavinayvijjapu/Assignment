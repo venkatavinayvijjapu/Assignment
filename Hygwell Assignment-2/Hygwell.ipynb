{
 "cells": [
  {
   "cell_type": "code",
   "execution_count": null,
   "id": "fe1debf8-c53e-4d77-a2d3-02f11cd6d673",
   "metadata": {},
   "outputs": [],
   "source": [
    "# Total and Daily Page events"
   ]
  },
  {
   "cell_type": "code",
   "execution_count": 1,
   "id": "030715c8-e42e-4ebe-9e19-b750ec58e03f",
   "metadata": {},
   "outputs": [
    {
     "name": "stdout",
     "output_type": "stream",
     "text": [
      "Total Pageviews: 142015\n",
      "Average Daily Pageviews: 20287.85714285714\n"
     ]
    }
   ],
   "source": [
    "import pandas as pd\n",
    "\n",
    "# Load the dataset\n",
    "data = pd.read_csv('traffic.csv')\n",
    "\n",
    "# Convert the date column to datetime format\n",
    "data['date'] = pd.to_datetime(data['date'])\n",
    "\n",
    "# Filter pageview events\n",
    "pageviews = data[data['event'] == 'pageview']\n",
    "\n",
    "# Calculate total number of pageview events\n",
    "total_pageviews = len(pageviews)\n",
    "\n",
    "# Calculate average pageviews per day\n",
    "daily_pageviews = pageviews.groupby(pageviews['date'].dt.date).size()\n",
    "average_daily_pageviews = daily_pageviews.mean()\n",
    "\n",
    "print(\"Total Pageviews:\", total_pageviews)\n",
    "print(\"Average Daily Pageviews:\", average_daily_pageviews)\n"
   ]
  },
  {
   "cell_type": "code",
   "execution_count": null,
   "id": "ed666da3-2154-453f-8c8e-0fdfbb83dc61",
   "metadata": {},
   "outputs": [],
   "source": [
    "# Analysis of other events"
   ]
  },
  {
   "cell_type": "code",
   "execution_count": 2,
   "id": "5adde16e-9c7a-4640-b9bb-625937473cb2",
   "metadata": {},
   "outputs": [
    {
     "name": "stdout",
     "output_type": "stream",
     "text": [
      "Event Distribution:\n",
      "event\n",
      "pageview    142015\n",
      "click        55732\n",
      "preview      28531\n",
      "Name: count, dtype: int64\n"
     ]
    }
   ],
   "source": [
    "# Count the occurrences of each event type\n",
    "event_distribution = data['event'].value_counts()\n",
    "\n",
    "print(\"Event Distribution:\")\n",
    "print(event_distribution)\n"
   ]
  },
  {
   "cell_type": "code",
   "execution_count": null,
   "id": "66226f89-980e-48f8-bf97-ea3c76d88e4f",
   "metadata": {},
   "outputs": [],
   "source": [
    "# Geographical Distribution"
   ]
  },
  {
   "cell_type": "code",
   "execution_count": 3,
   "id": "a5ebb3d0-85a5-4d0e-969c-af49e0f245b1",
   "metadata": {},
   "outputs": [
    {
     "name": "stdout",
     "output_type": "stream",
     "text": [
      "Countries Contributing to Pageviews:\n",
      "country\n",
      "Saudi Arabia         28873\n",
      "India                27286\n",
      "United States        20839\n",
      "France                9674\n",
      "Iraq                  4897\n",
      "                     ...  \n",
      "Wallis and Futuna        1\n",
      "Solomon Islands          1\n",
      "Guinea-Bissau            1\n",
      "Lesotho                  1\n",
      "Saint Martin             1\n",
      "Name: count, Length: 211, dtype: int64\n"
     ]
    }
   ],
   "source": [
    "# Filter pageview events\n",
    "pageview_countries = pageviews['country'].value_counts()\n",
    "\n",
    "print(\"Countries Contributing to Pageviews:\")\n",
    "print(pageview_countries)\n"
   ]
  },
  {
   "cell_type": "code",
   "execution_count": null,
   "id": "3cff90ab-9bf1-4e72-bd8d-1e2f45477fbe",
   "metadata": {},
   "outputs": [],
   "source": [
    "# Click-Through Rate Analysis"
   ]
  },
  {
   "cell_type": "code",
   "execution_count": 4,
   "id": "56e3abad-64aa-40ff-933c-1980814cc755",
   "metadata": {},
   "outputs": [
    {
     "name": "stdout",
     "output_type": "stream",
     "text": [
      "Overall CTR: 0.3924374185825441\n",
      "CTR per Link:\n",
      "linkid\n",
      "00126b32-0c35-507b-981c-02c80d2aa8e7    1.000000\n",
      "004b9724-abca-5481-b6e9-6148a7ca00a5    1.000000\n",
      "0063a982-41cd-5629-96d0-e1c4dd72ea11    0.666667\n",
      "006af6a0-1f0d-4b0c-93bf-756af9071c06    0.222222\n",
      "00759b81-3f04-4a61-b934-f8fb3185f4a0    0.750000\n",
      "                                          ...   \n",
      "ffd8d5a7-91bc-48e1-a692-c26fca8a8ead    0.345238\n",
      "fff38ca0-8043-50cd-a5f1-f65ebb7105c5    1.000000\n",
      "fff84c0e-90a1-59d8-9997-adc909d50e16    1.000000\n",
      "fffc17a7-f935-5d3e-bd3e-d761fd80d479    0.500000\n",
      "fffd0045-29de-522b-b5d8-35786363bf07    0.500000\n",
      "Length: 2253, dtype: float64\n"
     ]
    }
   ],
   "source": [
    "# Count clicks and pageviews per link\n",
    "clicks = data[data['event'] == 'click'].groupby('linkid').size()\n",
    "pageviews = data[data['event'] == 'pageview'].groupby('linkid').size()\n",
    "\n",
    "# Calculate overall CTR\n",
    "overall_ctr = clicks.sum() / pageviews.sum()\n",
    "\n",
    "# Calculate CTR per link\n",
    "ctr_per_link = (clicks / pageviews).dropna()\n",
    "\n",
    "print(\"Overall CTR:\", overall_ctr)\n",
    "print(\"CTR per Link:\")\n",
    "print(ctr_per_link)\n"
   ]
  },
  {
   "cell_type": "code",
   "execution_count": null,
   "id": "c63087a1-0ac6-4984-afd3-82d013ed0756",
   "metadata": {},
   "outputs": [],
   "source": [
    "# Correlation Analysis"
   ]
  },
  {
   "cell_type": "code",
   "execution_count": 6,
   "id": "1b0353c0-99c8-4649-93ed-1caac24f4617",
   "metadata": {},
   "outputs": [
    {
     "name": "stdout",
     "output_type": "stream",
     "text": [
      "Pearson Correlation: 0.9939838266311063, p-value: 0.0\n",
      "Spearman Correlation: 0.8181542470924686, p-value: 0.0\n"
     ]
    }
   ],
   "source": [
    "from scipy.stats import pearsonr, spearmanr\n",
    "\n",
    "# Convert the series to dataframes and give them column names\n",
    "clicks_df = clicks.reset_index()\n",
    "clicks_df.columns = ['linkid', 'clicks']\n",
    "\n",
    "pageviews_df = pageviews.reset_index()\n",
    "pageviews_df.columns = ['linkid', 'pageviews']\n",
    "\n",
    "# Merge clicks and pageviews dataframes on 'linkid'\n",
    "link_data = pd.merge(clicks_df, pageviews_df, on='linkid', how='inner')\n",
    "\n",
    "# Calculate Pearson correlation\n",
    "pearson_corr, pearson_p = pearsonr(link_data['clicks'], link_data['pageviews'])\n",
    "\n",
    "# Calculate Spearman correlation\n",
    "spearman_corr, spearman_p = spearmanr(link_data['clicks'], link_data['pageviews'])\n",
    "\n",
    "print(f\"Pearson Correlation: {pearson_corr}, p-value: {pearson_p}\")\n",
    "print(f\"Spearman Correlation: {spearman_corr}, p-value: {spearman_p}\")\n"
   ]
  },
  {
   "cell_type": "code",
   "execution_count": null,
   "id": "c8f4c915-a68e-4afd-8dce-0d8159083582",
   "metadata": {},
   "outputs": [],
   "source": []
  }
 ],
 "metadata": {
  "kernelspec": {
   "display_name": "Python 3 (ipykernel)",
   "language": "python",
   "name": "python3"
  },
  "language_info": {
   "codemirror_mode": {
    "name": "ipython",
    "version": 3
   },
   "file_extension": ".py",
   "mimetype": "text/x-python",
   "name": "python",
   "nbconvert_exporter": "python",
   "pygments_lexer": "ipython3",
   "version": "3.12.5"
  }
 },
 "nbformat": 4,
 "nbformat_minor": 5
}
